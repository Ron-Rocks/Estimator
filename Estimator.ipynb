{
  "nbformat": 4,
  "nbformat_minor": 0,
  "metadata": {
    "colab": {
      "name": "Estimator.ipynb",
      "provenance": [],
      "collapsed_sections": [],
      "include_colab_link": true
    },
    "kernelspec": {
      "name": "python3",
      "display_name": "Python 3"
    }
  },
  "cells": [
    {
      "cell_type": "markdown",
      "metadata": {
        "id": "view-in-github",
        "colab_type": "text"
      },
      "source": [
        "<a href=\"https://colab.research.google.com/github/Ron-Rocks/Estimator/blob/master/Estimator.ipynb\" target=\"_parent\"><img src=\"https://colab.research.google.com/assets/colab-badge.svg\" alt=\"Open In Colab\"/></a>"
      ]
    },
    {
      "cell_type": "code",
      "metadata": {
        "id": "EKb9GNE7pd9X",
        "colab_type": "code",
        "colab": {}
      },
      "source": [
        "import tensorflow as tf \n",
        "from tensorflow import keras\n",
        "from tensorflow.keras import layers\n",
        "import matplotlib.pyplot as plt\n",
        "import numpy as np \n"
      ],
      "execution_count": 0,
      "outputs": []
    },
    {
      "cell_type": "markdown",
      "metadata": {
        "id": "Xcz9wsqXWMOl",
        "colab_type": "text"
      },
      "source": [
        "# Pre-processing the data from the Mnist dataset"
      ]
    },
    {
      "cell_type": "code",
      "metadata": {
        "id": "U4yyO2CIp6uu",
        "colab_type": "code",
        "outputId": "7f826289-9a7d-4417-c746-322427873ff0",
        "colab": {
          "base_uri": "https://localhost:8080/",
          "height": 35
        }
      },
      "source": [
        "mnist = tf.keras.datasets.mnist\n",
        "(xTrain,yTrain),(xTest,yTest) = mnist.load_data()\n",
        "\n",
        "xTrain = (xTrain.reshape(-1,784))/255\n",
        "xTest = (xTest.reshape(-1,784))/255\n",
        " \n",
        "print(yTrain)"
      ],
      "execution_count": 0,
      "outputs": [
        {
          "output_type": "stream",
          "text": [
            "[5 0 4 ... 5 6 8]\n"
          ],
          "name": "stdout"
        }
      ]
    },
    {
      "cell_type": "markdown",
      "metadata": {
        "id": "9IQrqsWnqD5N",
        "colab_type": "text"
      },
      "source": [
        "# From Keras"
      ]
    },
    {
      "cell_type": "code",
      "metadata": {
        "id": "du6YbFUXphWz",
        "colab_type": "code",
        "outputId": "7f872cc4-9e96-44b8-b206-8e53948f3d1a",
        "colab": {
          "base_uri": "https://localhost:8080/",
          "height": 310
        }
      },
      "source": [
        "inputLayer = keras.Input(shape = (784,),name=\"x\")\n",
        "x = layers.Dense(64,activation = \"relu\")(inputLayer)\n",
        "x =layers.Dense(128,activation = \"relu\")(x)\n",
        "x = layers.Dense(64,activation = \"relu\")(x)\n",
        "outputLayer = layers.Dense(10,activation = \"softmax\")(x)\n",
        "\n",
        "Kerclassifier = keras.Model(inputs = inputLayer,outputs = outputLayer)\n",
        "\n",
        "\n",
        "Kerclassifier.compile(loss = \"sparse_categorical_crossentropy\",optimizer = \"adam\",metrics = [\"accuracy\"])\n",
        "Kerclassifier.fit(xTrain,yTrain,epochs = 5,validation_data = (xTest,yTest))"
      ],
      "execution_count": 0,
      "outputs": [
        {
          "output_type": "stream",
          "text": [
            "WARNING:tensorflow:From /usr/local/lib/python3.6/dist-packages/tensorflow_core/python/ops/resource_variable_ops.py:1630: calling BaseResourceVariable.__init__ (from tensorflow.python.ops.resource_variable_ops) with constraint is deprecated and will be removed in a future version.\n",
            "Instructions for updating:\n",
            "If using Keras pass *_constraint arguments to layers.\n",
            "Train on 60000 samples, validate on 10000 samples\n",
            "Epoch 1/5\n",
            "60000/60000 [==============================] - 4s 71us/sample - loss: 0.2622 - acc: 0.9216 - val_loss: 0.1529 - val_acc: 0.9536\n",
            "Epoch 2/5\n",
            "60000/60000 [==============================] - 4s 72us/sample - loss: 0.1158 - acc: 0.9648 - val_loss: 0.1147 - val_acc: 0.9644\n",
            "Epoch 3/5\n",
            "60000/60000 [==============================] - 4s 71us/sample - loss: 0.0864 - acc: 0.9731 - val_loss: 0.0961 - val_acc: 0.9706\n",
            "Epoch 4/5\n",
            "60000/60000 [==============================] - 4s 70us/sample - loss: 0.0690 - acc: 0.9782 - val_loss: 0.0901 - val_acc: 0.9735\n",
            "Epoch 5/5\n",
            "60000/60000 [==============================] - 4s 70us/sample - loss: 0.0565 - acc: 0.9822 - val_loss: 0.1018 - val_acc: 0.9718\n"
          ],
          "name": "stdout"
        },
        {
          "output_type": "execute_result",
          "data": {
            "text/plain": [
              "<tensorflow.python.keras.callbacks.History at 0x7fa66b2ccd68>"
            ]
          },
          "metadata": {
            "tags": []
          },
          "execution_count": 3
        }
      ]
    },
    {
      "cell_type": "markdown",
      "metadata": {
        "id": "cg3bSZndprqt",
        "colab_type": "text"
      },
      "source": [
        "# Now With Estimator\n",
        "\n",
        "tf.estimator is a High level api for making Neural Nets.\n",
        "\n",
        "Either we can use the in-built estimators like:\n",
        "\n",
        "1.DNNClassifier (used here)\n",
        "\n",
        "2.LinearClassifier\n",
        "\n",
        "3.LinearRegressor\n",
        ".......etc\n",
        "\n",
        ">Estimator are highly useful on large Datasets that can export a model for production \n",
        "\n",
        ">because this is the API which works well with Cloud ML Engines\n",
        "\n"
      ]
    },
    {
      "cell_type": "code",
      "metadata": {
        "id": "s7BbeMk_pvH8",
        "colab_type": "code",
        "outputId": "025f19c0-af62-46cf-b0b3-9143c70bc324",
        "colab": {
          "base_uri": "https://localhost:8080/",
          "height": 910
        }
      },
      "source": [
        "# converting label data type to integer\n",
        "yTrain = yTrain.astype(int)\n",
        "yTest = yTest.astype(int)\n",
        "\n",
        "# The only features column that our dataset has and naming it as \"x\" with shape(28,28) which is the shape of mnist data\n",
        "features_column = [tf.feature_column.numeric_column(\"x\",shape = [784])]\n",
        "\n",
        "#Actually Making the model \n",
        "# as DNNClassifier(feature_columns: the column of data we need to pass which is defined just above\n",
        "#                 model_dir : this is where our model will get saved\n",
        "#                 n_classes : this is the number of classes we need to catagorize our data into (in our case - 10 digits)\n",
        "#                 hidden_units : it is the number of dense layers and number of neurons in each\n",
        "classifier = tf.estimator.DNNClassifier(feature_columns=features_column,model_dir=\"model/MnistModel\",n_classes=10,hidden_units=[64,128,64],activation_fn=tf.nn.relu)\n",
        "\n",
        "# creating the input function which returns the image data and the labels\n",
        "#epochs = 1 means it will go through the data only once during testing\n",
        "trainInputFn = tf.estimator.inputs.numpy_input_fn(x = {\"x\":xTrain},y = yTrain,num_epochs=None,shuffle=True)\n",
        "testInputFn = tf.estimator.inputs.numpy_input_fn(x = {\"x\":xTest},y = yTest,num_epochs=1,shuffle=False)\n",
        "\n",
        "#Training the model by setting the number of steps the model should take\n",
        "classifier.train(trainInputFn,steps=300)\n"
      ],
      "execution_count": 0,
      "outputs": [
        {
          "output_type": "stream",
          "text": [
            "INFO:tensorflow:Using default config.\n",
            "INFO:tensorflow:Using config: {'_model_dir': 'model/MnistModel', '_tf_random_seed': None, '_save_summary_steps': 100, '_save_checkpoints_steps': None, '_save_checkpoints_secs': 600, '_session_config': allow_soft_placement: true\n",
            "graph_options {\n",
            "  rewrite_options {\n",
            "    meta_optimizer_iterations: ONE\n",
            "  }\n",
            "}\n",
            ", '_keep_checkpoint_max': 5, '_keep_checkpoint_every_n_hours': 10000, '_log_step_count_steps': 100, '_train_distribute': None, '_device_fn': None, '_protocol': None, '_eval_distribute': None, '_experimental_distribute': None, '_experimental_max_worker_delay_secs': None, '_session_creation_timeout_secs': 7200, '_service': None, '_cluster_spec': <tensorflow.python.training.server_lib.ClusterSpec object at 0x7fa66b2aa748>, '_task_type': 'worker', '_task_id': 0, '_global_id_in_cluster': 0, '_master': '', '_evaluation_master': '', '_is_chief': True, '_num_ps_replicas': 0, '_num_worker_replicas': 1}\n",
            "WARNING:tensorflow:From /usr/local/lib/python3.6/dist-packages/tensorflow_core/python/training/training_util.py:236: Variable.initialized_value (from tensorflow.python.ops.variables) is deprecated and will be removed in a future version.\n",
            "Instructions for updating:\n",
            "Use Variable.read_value. Variables in 2.X are initialized automatically both in eager and graph (inside tf.defun) contexts.\n",
            "WARNING:tensorflow:From /usr/local/lib/python3.6/dist-packages/tensorflow_estimator/python/estimator/inputs/queues/feeding_queue_runner.py:62: QueueRunner.__init__ (from tensorflow.python.training.queue_runner_impl) is deprecated and will be removed in a future version.\n",
            "Instructions for updating:\n",
            "To construct input pipelines, use the `tf.data` module.\n",
            "WARNING:tensorflow:From /usr/local/lib/python3.6/dist-packages/tensorflow_estimator/python/estimator/inputs/queues/feeding_functions.py:500: add_queue_runner (from tensorflow.python.training.queue_runner_impl) is deprecated and will be removed in a future version.\n",
            "Instructions for updating:\n",
            "To construct input pipelines, use the `tf.data` module.\n",
            "INFO:tensorflow:Calling model_fn.\n",
            "WARNING:tensorflow:From /usr/local/lib/python3.6/dist-packages/tensorflow_estimator/python/estimator/canned/head.py:437: to_float (from tensorflow.python.ops.math_ops) is deprecated and will be removed in a future version.\n",
            "Instructions for updating:\n",
            "Use `tf.cast` instead.\n",
            "WARNING:tensorflow:From /usr/local/lib/python3.6/dist-packages/tensorflow_core/python/training/adagrad.py:76: calling Constant.__init__ (from tensorflow.python.ops.init_ops) with dtype is deprecated and will be removed in a future version.\n",
            "Instructions for updating:\n",
            "Call initializer instance with the dtype argument instead of passing it to the constructor\n",
            "INFO:tensorflow:Done calling model_fn.\n",
            "INFO:tensorflow:Create CheckpointSaverHook.\n",
            "WARNING:tensorflow:From /usr/local/lib/python3.6/dist-packages/tensorflow_core/python/ops/array_ops.py:1475: where (from tensorflow.python.ops.array_ops) is deprecated and will be removed in a future version.\n",
            "Instructions for updating:\n",
            "Use tf.where in 2.0, which has the same broadcast rule as np.where\n",
            "INFO:tensorflow:Graph was finalized.\n",
            "INFO:tensorflow:Restoring parameters from model/MnistModel/model.ckpt-700\n",
            "WARNING:tensorflow:From /usr/local/lib/python3.6/dist-packages/tensorflow_core/python/training/saver.py:1069: get_checkpoint_mtimes (from tensorflow.python.training.checkpoint_management) is deprecated and will be removed in a future version.\n",
            "Instructions for updating:\n",
            "Use standard file utilities to get mtimes.\n",
            "INFO:tensorflow:Running local_init_op.\n",
            "INFO:tensorflow:Done running local_init_op.\n",
            "WARNING:tensorflow:From /usr/local/lib/python3.6/dist-packages/tensorflow_core/python/training/monitored_session.py:882: start_queue_runners (from tensorflow.python.training.queue_runner_impl) is deprecated and will be removed in a future version.\n",
            "Instructions for updating:\n",
            "To construct input pipelines, use the `tf.data` module.\n",
            "INFO:tensorflow:Saving checkpoints for 700 into model/MnistModel/model.ckpt.\n",
            "INFO:tensorflow:loss = 14.063086, step = 701\n",
            "INFO:tensorflow:global_step/sec: 248.273\n",
            "INFO:tensorflow:loss = 19.639761, step = 801 (0.404 sec)\n",
            "INFO:tensorflow:global_step/sec: 275.169\n",
            "INFO:tensorflow:loss = 22.453957, step = 901 (0.363 sec)\n",
            "INFO:tensorflow:Saving checkpoints for 1000 into model/MnistModel/model.ckpt.\n",
            "INFO:tensorflow:Loss for final step: 23.438644.\n"
          ],
          "name": "stdout"
        },
        {
          "output_type": "execute_result",
          "data": {
            "text/plain": [
              "<tensorflow_estimator.python.estimator.canned.dnn.DNNClassifier at 0x7fa66bc18e48>"
            ]
          },
          "metadata": {
            "tags": []
          },
          "execution_count": 4
        }
      ]
    },
    {
      "cell_type": "markdown",
      "metadata": {
        "id": "NZhD0ep39nZy",
        "colab_type": "text"
      },
      "source": [
        "# Now Evaluating both Models"
      ]
    },
    {
      "cell_type": "code",
      "metadata": {
        "id": "HobDpB5b9mcG",
        "colab_type": "code",
        "outputId": "d5648bac-6db0-4308-d1b8-721c2975f1c7",
        "colab": {
          "base_uri": "https://localhost:8080/",
          "height": 254
        }
      },
      "source": [
        "# Evaluating the model using testFunction as the inputs\n",
        "EstEval = classifier.evaluate(input_fn=testInputFn)\n",
        "# Now, evaluating the Keras Model \n",
        "KerEval = Kerclassifier.evaluate(xTest,yTest)\n",
        "\n",
        "\n",
        "print(\"Results with Keras :  accuracy : \",KerEval[1],\" loss :  \",KerEval[0])\n",
        "print(\"Results with Estimator : \",EstEval)"
      ],
      "execution_count": 0,
      "outputs": [
        {
          "output_type": "stream",
          "text": [
            "INFO:tensorflow:Calling model_fn.\n",
            "INFO:tensorflow:Done calling model_fn.\n",
            "INFO:tensorflow:Starting evaluation at 2019-12-08T11:04:33Z\n",
            "INFO:tensorflow:Graph was finalized.\n",
            "INFO:tensorflow:Restoring parameters from model/MnistModel/model.ckpt-1000\n",
            "INFO:tensorflow:Running local_init_op.\n",
            "INFO:tensorflow:Done running local_init_op.\n",
            "INFO:tensorflow:Finished evaluation at 2019-12-08-11:04:33\n",
            "INFO:tensorflow:Saving dict for global step 1000: accuracy = 0.9534, average_loss = 0.15263298, global_step = 1000, loss = 19.320631\n",
            "INFO:tensorflow:Saving 'checkpoint_path' summary for global step 1000: model/MnistModel/model.ckpt-1000\n",
            "10000/10000 [==============================] - 0s 29us/sample - loss: 0.1018 - acc: 0.9718\n",
            "Results with Keras :  accuracy :  0.9718  loss :   0.10176746470418294\n",
            "Results with Estimator :  {'accuracy': 0.9534, 'average_loss': 0.15263298, 'loss': 19.320631, 'global_step': 1000}\n"
          ],
          "name": "stdout"
        }
      ]
    },
    {
      "cell_type": "markdown",
      "metadata": {
        "id": "bsXJOrmKBWlM",
        "colab_type": "text"
      },
      "source": [
        "# Converting keras to Estimator"
      ]
    },
    {
      "cell_type": "code",
      "metadata": {
        "id": "EIO4fBAQBV90",
        "colab_type": "code",
        "outputId": "afa555b2-5848-43d1-a68e-82c2f8fb4ac5",
        "colab": {
          "base_uri": "https://localhost:8080/",
          "height": 583
        }
      },
      "source": [
        "# Model  Keras ----> Estimator\n",
        "convertedModel = tf.keras.estimator.model_to_estimator(Kerclassifier)\n",
        "\n",
        "ConvEval = convertedModel.evaluate(input_fn = testInputFn)\n",
        "print(\"Converted model : \",ConvEval)"
      ],
      "execution_count": 0,
      "outputs": [
        {
          "output_type": "stream",
          "text": [
            "INFO:tensorflow:Using default config.\n",
            "WARNING:tensorflow:Using temporary folder as model directory: /tmp/tmplv7xx6a3\n",
            "INFO:tensorflow:Using the Keras model provided.\n",
            "WARNING:tensorflow:From /usr/local/lib/python3.6/dist-packages/tensorflow_core/python/ops/init_ops.py:97: calling GlorotUniform.__init__ (from tensorflow.python.ops.init_ops) with dtype is deprecated and will be removed in a future version.\n",
            "Instructions for updating:\n",
            "Call initializer instance with the dtype argument instead of passing it to the constructor\n",
            "WARNING:tensorflow:From /usr/local/lib/python3.6/dist-packages/tensorflow_core/python/ops/init_ops.py:97: calling Zeros.__init__ (from tensorflow.python.ops.init_ops) with dtype is deprecated and will be removed in a future version.\n",
            "Instructions for updating:\n",
            "Call initializer instance with the dtype argument instead of passing it to the constructor\n",
            "INFO:tensorflow:Using config: {'_model_dir': '/tmp/tmplv7xx6a3', '_tf_random_seed': None, '_save_summary_steps': 100, '_save_checkpoints_steps': None, '_save_checkpoints_secs': 600, '_session_config': allow_soft_placement: true\n",
            "graph_options {\n",
            "  rewrite_options {\n",
            "    meta_optimizer_iterations: ONE\n",
            "  }\n",
            "}\n",
            ", '_keep_checkpoint_max': 5, '_keep_checkpoint_every_n_hours': 10000, '_log_step_count_steps': 100, '_train_distribute': None, '_device_fn': None, '_protocol': None, '_eval_distribute': None, '_experimental_distribute': None, '_experimental_max_worker_delay_secs': None, '_session_creation_timeout_secs': 7200, '_service': None, '_cluster_spec': <tensorflow.python.training.server_lib.ClusterSpec object at 0x7fa6aaaa77f0>, '_task_type': 'worker', '_task_id': 0, '_global_id_in_cluster': 0, '_master': '', '_evaluation_master': '', '_is_chief': True, '_num_ps_replicas': 0, '_num_worker_replicas': 1}\n",
            "INFO:tensorflow:Could not find trained model in model_dir: /tmp/tmplv7xx6a3, running initialization to evaluate.\n",
            "INFO:tensorflow:Calling model_fn.\n",
            "INFO:tensorflow:Done calling model_fn.\n",
            "INFO:tensorflow:Warm-starting with WarmStartSettings: WarmStartSettings(ckpt_to_initialize_from='/tmp/tmplv7xx6a3/keras/keras_model.ckpt', vars_to_warm_start='.*', var_name_to_vocab_info={}, var_name_to_prev_var_name={})\n",
            "INFO:tensorflow:Warm-starting from: /tmp/tmplv7xx6a3/keras/keras_model.ckpt\n",
            "INFO:tensorflow:Warm-starting variables only in TRAINABLE_VARIABLES.\n",
            "INFO:tensorflow:Warm-started 8 variables.\n",
            "INFO:tensorflow:Starting evaluation at 2019-12-08T11:04:35Z\n",
            "INFO:tensorflow:Graph was finalized.\n",
            "INFO:tensorflow:Running local_init_op.\n",
            "INFO:tensorflow:Done running local_init_op.\n",
            "INFO:tensorflow:Finished evaluation at 2019-12-08-11:04:35\n",
            "INFO:tensorflow:Saving dict for global step 0: acc = 0.9718, global_step = 0, loss = 0.100643866\n",
            "Converted model :  {'acc': 0.9718, 'loss': 0.100643866, 'global_step': 0}\n"
          ],
          "name": "stdout"
        }
      ]
    }
  ]
}